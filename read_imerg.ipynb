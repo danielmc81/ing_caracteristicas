{
 "cells": [
  {
   "cell_type": "code",
   "execution_count": 9,
   "id": "36c3de47",
   "metadata": {},
   "outputs": [],
   "source": [
    "from netCDF4 import Dataset"
   ]
  },
  {
   "cell_type": "code",
   "execution_count": 13,
   "id": "1157a90b",
   "metadata": {},
   "outputs": [],
   "source": [
    "f1 = Dataset(\"3B-DAY.MS.MRG.3IMERG.20210301-S000000-E235959.V06.nc4.nc4\")\n",
    "# f1"
   ]
  },
  {
   "cell_type": "code",
   "execution_count": 14,
   "id": "1256b8c8",
   "metadata": {},
   "outputs": [
    {
     "name": "stdout",
     "output_type": "stream",
     "text": [
      "OrderedDict([('precipitationCal', <class 'netCDF4._netCDF4.Variable'>\n",
      "float32 precipitationCal(time, lon, lat)\n",
      "    units: mm\n",
      "    long_name: Daily accumulated precipitation (combined microwave-IR) estimate\n",
      "    coordinates: time lon lat\n",
      "    _FillValue: -9999.9\n",
      "    origname: precipitationCal\n",
      "    fullnamepath: /precipitationCal\n",
      "unlimited dimensions: \n",
      "current shape = (1, 118, 107)\n",
      "filling on), ('HQprecipitation', <class 'netCDF4._netCDF4.Variable'>\n",
      "float32 HQprecipitation(time, lon, lat)\n",
      "    units: mm\n",
      "    long_name: Daily accumulated High Quality precipitation from all available MW sources\n",
      "    coordinates: time lon lat\n",
      "    _FillValue: -9999.9\n",
      "    origname: HQprecipitation\n",
      "    fullnamepath: /HQprecipitation\n",
      "unlimited dimensions: \n",
      "current shape = (1, 118, 107)\n",
      "filling on), ('precipitationCal_cnt', <class 'netCDF4._netCDF4.Variable'>\n",
      "int16 precipitationCal_cnt(time, lon, lat)\n",
      "    units: count\n",
      "    long_name: Count of all valid half-hourly precipitationCal retrievals for the day\n",
      "    coordinates: time lon lat\n",
      "    origname: precipitationCal_cnt\n",
      "    fullnamepath: /precipitationCal_cnt\n",
      "unlimited dimensions: \n",
      "current shape = (1, 118, 107)\n",
      "filling on, default _FillValue of -32767 used\n",
      "), ('randomError', <class 'netCDF4._netCDF4.Variable'>\n",
      "float32 randomError(time, lon, lat)\n",
      "    units: mm\n",
      "    long_name: Daily total error of precipitation estimate\n",
      "    coordinates: time lon lat\n",
      "    _FillValue: -9999.9\n",
      "    origname: randomError\n",
      "    fullnamepath: /randomError\n",
      "unlimited dimensions: \n",
      "current shape = (1, 118, 107)\n",
      "filling on), ('randomError_cnt', <class 'netCDF4._netCDF4.Variable'>\n",
      "int16 randomError_cnt(time, lon, lat)\n",
      "    units: count\n",
      "    long_name: Count of valid half-hourly randomError retrievals for the day\n",
      "    coordinates: time lon lat\n",
      "    origname: randomError_cnt\n",
      "    fullnamepath: /randomError_cnt\n",
      "unlimited dimensions: \n",
      "current shape = (1, 118, 107)\n",
      "filling on, default _FillValue of -32767 used\n",
      "), ('time_bnds', <class 'netCDF4._netCDF4.Variable'>\n",
      "float64 time_bnds(time, nv)\n",
      "    units: days since 1970-01-01 00:00:00Z\n",
      "    coordinates: time nv\n",
      "    origname: time_bnds\n",
      "    fullnamepath: /time_bnds\n",
      "unlimited dimensions: \n",
      "current shape = (1, 2)\n",
      "filling on, default _FillValue of 9.969209968386869e+36 used\n",
      "), ('precipitationCal_cnt_cond', <class 'netCDF4._netCDF4.Variable'>\n",
      "int16 precipitationCal_cnt_cond(time, lon, lat)\n",
      "    units: count\n",
      "    long_name: Count of valid half-hourly precipitationCal retrievals for the day where precipitation is greater than 0\n",
      "    coordinates: time lon lat\n",
      "    origname: precipitationCal_cnt_cond\n",
      "    fullnamepath: /precipitationCal_cnt_cond\n",
      "unlimited dimensions: \n",
      "current shape = (1, 118, 107)\n",
      "filling on, default _FillValue of -32767 used\n",
      "), ('HQprecipitation_cnt', <class 'netCDF4._netCDF4.Variable'>\n",
      "int16 HQprecipitation_cnt(time, lon, lat)\n",
      "    units: count\n",
      "    long_name: Count of all valid half-hourly HQprecipitation retrievals for the day\n",
      "    coordinates: time lon lat\n",
      "    origname: HQprecipitation_cnt\n",
      "    fullnamepath: /HQprecipitation_cnt\n",
      "unlimited dimensions: \n",
      "current shape = (1, 118, 107)\n",
      "filling on, default _FillValue of -32767 used\n",
      "), ('HQprecipitation_cnt_cond', <class 'netCDF4._netCDF4.Variable'>\n",
      "int16 HQprecipitation_cnt_cond(time, lon, lat)\n",
      "    units: count\n",
      "    long_name: Count of valid half-hourly HQprecipitation retrievals for the day where precipitation is greater than 0\n",
      "    coordinates: time lon lat\n",
      "    origname: HQprecipitation_cnt_cond\n",
      "    fullnamepath: /HQprecipitation_cnt_cond\n",
      "unlimited dimensions: \n",
      "current shape = (1, 118, 107)\n",
      "filling on, default _FillValue of -32767 used\n",
      "), ('lat', <class 'netCDF4._netCDF4.Variable'>\n",
      "float32 lat(lat)\n",
      "    units: degrees_north\n",
      "    long_name: Latitude\n",
      "    origname: lat\n",
      "    fullnamepath: /lat\n",
      "unlimited dimensions: \n",
      "current shape = (107,)\n",
      "filling on, default _FillValue of 9.969209968386869e+36 used\n",
      "), ('lon', <class 'netCDF4._netCDF4.Variable'>\n",
      "float32 lon(lon)\n",
      "    units: degrees_east\n",
      "    long_name: Longitude\n",
      "    origname: lon\n",
      "    fullnamepath: /lon\n",
      "unlimited dimensions: \n",
      "current shape = (118,)\n",
      "filling on, default _FillValue of 9.969209968386869e+36 used\n",
      "), ('nv', <class 'netCDF4._netCDF4.Variable'>\n",
      "float32 nv(nv)\n",
      "unlimited dimensions: \n",
      "current shape = (2,)\n",
      "filling on, default _FillValue of 9.969209968386869e+36 used\n",
      "), ('time', <class 'netCDF4._netCDF4.Variable'>\n",
      "float64 time(time)\n",
      "    units: days since 1970-01-01 00:00:00Z\n",
      "    standard_name: time\n",
      "    calendar: julian\n",
      "    bounds: time_bnds\n",
      "    origname: time\n",
      "    fullnamepath: /time\n",
      "unlimited dimensions: \n",
      "current shape = (1,)\n",
      "filling on, default _FillValue of 9.969209968386869e+36 used\n",
      ")])\n"
     ]
    }
   ],
   "source": [
    "print(f1.variables)"
   ]
  },
  {
   "cell_type": "code",
   "execution_count": 15,
   "id": "d36cddaa",
   "metadata": {},
   "outputs": [
    {
     "name": "stdout",
     "output_type": "stream",
     "text": [
      "OrderedDict([('time', <class 'netCDF4._netCDF4.Dimension'>: name = 'time', size = 1\n",
      "), ('lon', <class 'netCDF4._netCDF4.Dimension'>: name = 'lon', size = 118\n",
      "), ('lat', <class 'netCDF4._netCDF4.Dimension'>: name = 'lat', size = 107\n",
      "), ('nv', <class 'netCDF4._netCDF4.Dimension'>: name = 'nv', size = 2\n",
      ")])\n"
     ]
    }
   ],
   "source": [
    "print(f1.dimensions)"
   ]
  },
  {
   "cell_type": "code",
   "execution_count": null,
   "id": "bffbe86a",
   "metadata": {},
   "outputs": [],
   "source": []
  }
 ],
 "metadata": {
  "kernelspec": {
   "display_name": "mcd",
   "language": "python",
   "name": "mcd"
  },
  "language_info": {
   "codemirror_mode": {
    "name": "ipython",
    "version": 3
   },
   "file_extension": ".py",
   "mimetype": "text/x-python",
   "name": "python",
   "nbconvert_exporter": "python",
   "pygments_lexer": "ipython3",
   "version": "3.6.13"
  }
 },
 "nbformat": 4,
 "nbformat_minor": 5
}
