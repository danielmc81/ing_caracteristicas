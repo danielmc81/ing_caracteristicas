{
 "cells": [
  {
   "cell_type": "markdown",
   "id": "85c34cd9",
   "metadata": {},
   "source": [
    "## Análisis Exploratorio de Datos"
   ]
  },
  {
   "cell_type": "code",
   "execution_count": 34,
   "id": "66ee5c00",
   "metadata": {},
   "outputs": [],
   "source": [
    "from netCDF4 import Dataset, num2date\n",
    "import numpy as np\n",
    "import xarray as xr\n",
    "import matplotlib.pyplot as plt\n",
    "import cartopy.crs as crs\n",
    "import pprint\n",
    "import pandas as pd \n",
    "import os\n",
    "from datetime import datetime\n",
    "import seaborn as sns\n",
    "import dataframe_image as dfi\n",
    "from geopy.distance import geodesic\n",
    "from scipy.spatial.distance import cdist, pdist\n",
    "from scipy import stats"
   ]
  },
  {
   "cell_type": "markdown",
   "id": "4225ef74",
   "metadata": {},
   "source": [
    "#### Lectura de los datos limpios"
   ]
  },
  {
   "cell_type": "code",
   "execution_count": 35,
   "id": "b127e737",
   "metadata": {},
   "outputs": [
    {
     "data": {
      "text/html": [
       "<div>\n",
       "<style scoped>\n",
       "    .dataframe tbody tr th:only-of-type {\n",
       "        vertical-align: middle;\n",
       "    }\n",
       "\n",
       "    .dataframe tbody tr th {\n",
       "        vertical-align: top;\n",
       "    }\n",
       "\n",
       "    .dataframe thead th {\n",
       "        text-align: right;\n",
       "    }\n",
       "</style>\n",
       "<table border=\"1\" class=\"dataframe\">\n",
       "  <thead>\n",
       "    <tr style=\"text-align: right;\">\n",
       "      <th></th>\n",
       "      <th>date</th>\n",
       "      <th>city_hmo</th>\n",
       "      <th>city_nog</th>\n",
       "      <th>city_obr</th>\n",
       "      <th>HQprcp_hmo</th>\n",
       "      <th>HQprcp_nog</th>\n",
       "      <th>HQprcp_obr</th>\n",
       "      <th>prcp_hmo</th>\n",
       "      <th>prcp_nog</th>\n",
       "      <th>prcp_obr</th>\n",
       "    </tr>\n",
       "  </thead>\n",
       "  <tbody>\n",
       "    <tr>\n",
       "      <th>0</th>\n",
       "      <td>2021-03-01</td>\n",
       "      <td>Hermosillo</td>\n",
       "      <td>Heroica Nogales</td>\n",
       "      <td>Ciudad Obregón</td>\n",
       "      <td>0.000</td>\n",
       "      <td>0.000</td>\n",
       "      <td>0.000</td>\n",
       "      <td>0.0</td>\n",
       "      <td>0.0</td>\n",
       "      <td>0.0</td>\n",
       "    </tr>\n",
       "    <tr>\n",
       "      <th>1</th>\n",
       "      <td>2021-03-02</td>\n",
       "      <td>Hermosillo</td>\n",
       "      <td>Heroica Nogales</td>\n",
       "      <td>Ciudad Obregón</td>\n",
       "      <td>0.000</td>\n",
       "      <td>0.000</td>\n",
       "      <td>0.000</td>\n",
       "      <td>0.0</td>\n",
       "      <td>0.0</td>\n",
       "      <td>0.0</td>\n",
       "    </tr>\n",
       "    <tr>\n",
       "      <th>2</th>\n",
       "      <td>2021-03-03</td>\n",
       "      <td>Hermosillo</td>\n",
       "      <td>Heroica Nogales</td>\n",
       "      <td>Ciudad Obregón</td>\n",
       "      <td>0.015</td>\n",
       "      <td>0.000</td>\n",
       "      <td>0.000</td>\n",
       "      <td>0.0</td>\n",
       "      <td>0.0</td>\n",
       "      <td>0.0</td>\n",
       "    </tr>\n",
       "    <tr>\n",
       "      <th>3</th>\n",
       "      <td>2021-03-04</td>\n",
       "      <td>Hermosillo</td>\n",
       "      <td>Heroica Nogales</td>\n",
       "      <td>Ciudad Obregón</td>\n",
       "      <td>0.000</td>\n",
       "      <td>0.000</td>\n",
       "      <td>0.000</td>\n",
       "      <td>0.0</td>\n",
       "      <td>0.0</td>\n",
       "      <td>0.0</td>\n",
       "    </tr>\n",
       "    <tr>\n",
       "      <th>4</th>\n",
       "      <td>2021-03-05</td>\n",
       "      <td>Hermosillo</td>\n",
       "      <td>Heroica Nogales</td>\n",
       "      <td>Ciudad Obregón</td>\n",
       "      <td>0.000</td>\n",
       "      <td>0.000</td>\n",
       "      <td>0.000</td>\n",
       "      <td>0.0</td>\n",
       "      <td>0.0</td>\n",
       "      <td>0.0</td>\n",
       "    </tr>\n",
       "    <tr>\n",
       "      <th>...</th>\n",
       "      <td>...</td>\n",
       "      <td>...</td>\n",
       "      <td>...</td>\n",
       "      <td>...</td>\n",
       "      <td>...</td>\n",
       "      <td>...</td>\n",
       "      <td>...</td>\n",
       "      <td>...</td>\n",
       "      <td>...</td>\n",
       "      <td>...</td>\n",
       "    </tr>\n",
       "    <tr>\n",
       "      <th>148</th>\n",
       "      <td>2021-07-27</td>\n",
       "      <td>Hermosillo</td>\n",
       "      <td>Heroica Nogales</td>\n",
       "      <td>Ciudad Obregón</td>\n",
       "      <td>0.010</td>\n",
       "      <td>0.000</td>\n",
       "      <td>0.225</td>\n",
       "      <td>0.0</td>\n",
       "      <td>1.8</td>\n",
       "      <td>7.0</td>\n",
       "    </tr>\n",
       "    <tr>\n",
       "      <th>149</th>\n",
       "      <td>2021-07-28</td>\n",
       "      <td>Hermosillo</td>\n",
       "      <td>Heroica Nogales</td>\n",
       "      <td>Ciudad Obregón</td>\n",
       "      <td>0.010</td>\n",
       "      <td>0.000</td>\n",
       "      <td>0.080</td>\n",
       "      <td>0.0</td>\n",
       "      <td>3.1</td>\n",
       "      <td>0.3</td>\n",
       "    </tr>\n",
       "    <tr>\n",
       "      <th>150</th>\n",
       "      <td>2021-07-29</td>\n",
       "      <td>Hermosillo</td>\n",
       "      <td>Heroica Nogales</td>\n",
       "      <td>Ciudad Obregón</td>\n",
       "      <td>1.985</td>\n",
       "      <td>0.230</td>\n",
       "      <td>1.900</td>\n",
       "      <td>0.0</td>\n",
       "      <td>29.1</td>\n",
       "      <td>2.8</td>\n",
       "    </tr>\n",
       "    <tr>\n",
       "      <th>151</th>\n",
       "      <td>2021-07-30</td>\n",
       "      <td>Hermosillo</td>\n",
       "      <td>Heroica Nogales</td>\n",
       "      <td>Ciudad Obregón</td>\n",
       "      <td>2.760</td>\n",
       "      <td>0.925</td>\n",
       "      <td>11.865</td>\n",
       "      <td>0.0</td>\n",
       "      <td>8.4</td>\n",
       "      <td>4.6</td>\n",
       "    </tr>\n",
       "    <tr>\n",
       "      <th>152</th>\n",
       "      <td>2021-07-31</td>\n",
       "      <td>Hermosillo</td>\n",
       "      <td>Heroica Nogales</td>\n",
       "      <td>Ciudad Obregón</td>\n",
       "      <td>0.000</td>\n",
       "      <td>0.110</td>\n",
       "      <td>0.070</td>\n",
       "      <td>0.0</td>\n",
       "      <td>18.1</td>\n",
       "      <td>0.0</td>\n",
       "    </tr>\n",
       "  </tbody>\n",
       "</table>\n",
       "<p>153 rows × 10 columns</p>\n",
       "</div>"
      ],
      "text/plain": [
       "           date    city_hmo         city_nog        city_obr  HQprcp_hmo  \\\n",
       "0    2021-03-01  Hermosillo  Heroica Nogales  Ciudad Obregón       0.000   \n",
       "1    2021-03-02  Hermosillo  Heroica Nogales  Ciudad Obregón       0.000   \n",
       "2    2021-03-03  Hermosillo  Heroica Nogales  Ciudad Obregón       0.015   \n",
       "3    2021-03-04  Hermosillo  Heroica Nogales  Ciudad Obregón       0.000   \n",
       "4    2021-03-05  Hermosillo  Heroica Nogales  Ciudad Obregón       0.000   \n",
       "..          ...         ...              ...             ...         ...   \n",
       "148  2021-07-27  Hermosillo  Heroica Nogales  Ciudad Obregón       0.010   \n",
       "149  2021-07-28  Hermosillo  Heroica Nogales  Ciudad Obregón       0.010   \n",
       "150  2021-07-29  Hermosillo  Heroica Nogales  Ciudad Obregón       1.985   \n",
       "151  2021-07-30  Hermosillo  Heroica Nogales  Ciudad Obregón       2.760   \n",
       "152  2021-07-31  Hermosillo  Heroica Nogales  Ciudad Obregón       0.000   \n",
       "\n",
       "     HQprcp_nog  HQprcp_obr  prcp_hmo  prcp_nog  prcp_obr  \n",
       "0         0.000       0.000       0.0       0.0       0.0  \n",
       "1         0.000       0.000       0.0       0.0       0.0  \n",
       "2         0.000       0.000       0.0       0.0       0.0  \n",
       "3         0.000       0.000       0.0       0.0       0.0  \n",
       "4         0.000       0.000       0.0       0.0       0.0  \n",
       "..          ...         ...       ...       ...       ...  \n",
       "148       0.000       0.225       0.0       1.8       7.0  \n",
       "149       0.000       0.080       0.0       3.1       0.3  \n",
       "150       0.230       1.900       0.0      29.1       2.8  \n",
       "151       0.925      11.865       0.0       8.4       4.6  \n",
       "152       0.110       0.070       0.0      18.1       0.0  \n",
       "\n",
       "[153 rows x 10 columns]"
      ]
     },
     "execution_count": 35,
     "metadata": {},
     "output_type": "execute_result"
    }
   ],
   "source": [
    "ds = pd.read_csv(\"datos_limpios.csv\") \n",
    "ds"
   ]
  },
  {
   "cell_type": "code",
   "execution_count": 36,
   "id": "bd9836f3",
   "metadata": {},
   "outputs": [
    {
     "name": "stdout",
     "output_type": "stream",
     "text": [
      "<class 'pandas.core.frame.DataFrame'>\n",
      "RangeIndex: 153 entries, 0 to 152\n",
      "Data columns (total 10 columns):\n",
      " #   Column      Non-Null Count  Dtype  \n",
      "---  ------      --------------  -----  \n",
      " 0   date        153 non-null    object \n",
      " 1   city_hmo    153 non-null    object \n",
      " 2   city_nog    153 non-null    object \n",
      " 3   city_obr    153 non-null    object \n",
      " 4   HQprcp_hmo  153 non-null    float64\n",
      " 5   HQprcp_nog  153 non-null    float64\n",
      " 6   HQprcp_obr  153 non-null    float64\n",
      " 7   prcp_hmo    153 non-null    float64\n",
      " 8   prcp_nog    153 non-null    float64\n",
      " 9   prcp_obr    153 non-null    float64\n",
      "dtypes: float64(6), object(4)\n",
      "memory usage: 12.1+ KB\n"
     ]
    }
   ],
   "source": [
    "ds.info()"
   ]
  },
  {
   "cell_type": "code",
   "execution_count": 37,
   "id": "7fdd2bc5",
   "metadata": {},
   "outputs": [
    {
     "data": {
      "text/plain": [
       "date          0\n",
       "city_hmo      0\n",
       "city_nog      0\n",
       "city_obr      0\n",
       "HQprcp_hmo    0\n",
       "HQprcp_nog    0\n",
       "HQprcp_obr    0\n",
       "prcp_hmo      0\n",
       "prcp_nog      0\n",
       "prcp_obr      0\n",
       "dtype: int64"
      ]
     },
     "execution_count": 37,
     "metadata": {},
     "output_type": "execute_result"
    }
   ],
   "source": [
    "ds.isnull().sum()"
   ]
  },
  {
   "cell_type": "code",
   "execution_count": 38,
   "id": "e1ee9c4d",
   "metadata": {},
   "outputs": [
    {
     "data": {
      "text/html": [
       "<div>\n",
       "<style scoped>\n",
       "    .dataframe tbody tr th:only-of-type {\n",
       "        vertical-align: middle;\n",
       "    }\n",
       "\n",
       "    .dataframe tbody tr th {\n",
       "        vertical-align: top;\n",
       "    }\n",
       "\n",
       "    .dataframe thead th {\n",
       "        text-align: right;\n",
       "    }\n",
       "</style>\n",
       "<table border=\"1\" class=\"dataframe\">\n",
       "  <thead>\n",
       "    <tr style=\"text-align: right;\">\n",
       "      <th></th>\n",
       "      <th>HQprcp_hmo</th>\n",
       "      <th>HQprcp_nog</th>\n",
       "      <th>HQprcp_obr</th>\n",
       "      <th>prcp_hmo</th>\n",
       "      <th>prcp_nog</th>\n",
       "      <th>prcp_obr</th>\n",
       "    </tr>\n",
       "  </thead>\n",
       "  <tbody>\n",
       "    <tr>\n",
       "      <th>count</th>\n",
       "      <td>153.000000</td>\n",
       "      <td>153.000000</td>\n",
       "      <td>153.000000</td>\n",
       "      <td>153.000000</td>\n",
       "      <td>153.000000</td>\n",
       "      <td>153.00000</td>\n",
       "    </tr>\n",
       "    <tr>\n",
       "      <th>mean</th>\n",
       "      <td>0.197386</td>\n",
       "      <td>0.409248</td>\n",
       "      <td>0.488824</td>\n",
       "      <td>0.182353</td>\n",
       "      <td>4.281046</td>\n",
       "      <td>1.97451</td>\n",
       "    </tr>\n",
       "    <tr>\n",
       "      <th>std</th>\n",
       "      <td>0.748419</td>\n",
       "      <td>1.777923</td>\n",
       "      <td>1.656170</td>\n",
       "      <td>1.667259</td>\n",
       "      <td>11.955431</td>\n",
       "      <td>7.18014</td>\n",
       "    </tr>\n",
       "    <tr>\n",
       "      <th>min</th>\n",
       "      <td>0.000000</td>\n",
       "      <td>0.000000</td>\n",
       "      <td>0.000000</td>\n",
       "      <td>0.000000</td>\n",
       "      <td>0.000000</td>\n",
       "      <td>0.00000</td>\n",
       "    </tr>\n",
       "    <tr>\n",
       "      <th>25%</th>\n",
       "      <td>0.000000</td>\n",
       "      <td>0.000000</td>\n",
       "      <td>0.000000</td>\n",
       "      <td>0.000000</td>\n",
       "      <td>0.000000</td>\n",
       "      <td>0.00000</td>\n",
       "    </tr>\n",
       "    <tr>\n",
       "      <th>50%</th>\n",
       "      <td>0.000000</td>\n",
       "      <td>0.000000</td>\n",
       "      <td>0.000000</td>\n",
       "      <td>0.000000</td>\n",
       "      <td>0.000000</td>\n",
       "      <td>0.00000</td>\n",
       "    </tr>\n",
       "    <tr>\n",
       "      <th>75%</th>\n",
       "      <td>0.000000</td>\n",
       "      <td>0.035000</td>\n",
       "      <td>0.050000</td>\n",
       "      <td>0.000000</td>\n",
       "      <td>0.300000</td>\n",
       "      <td>0.00000</td>\n",
       "    </tr>\n",
       "    <tr>\n",
       "      <th>max</th>\n",
       "      <td>5.639999</td>\n",
       "      <td>19.584999</td>\n",
       "      <td>11.865000</td>\n",
       "      <td>19.400000</td>\n",
       "      <td>83.800000</td>\n",
       "      <td>41.10000</td>\n",
       "    </tr>\n",
       "  </tbody>\n",
       "</table>\n",
       "</div>"
      ],
      "text/plain": [
       "       HQprcp_hmo  HQprcp_nog  HQprcp_obr    prcp_hmo    prcp_nog   prcp_obr\n",
       "count  153.000000  153.000000  153.000000  153.000000  153.000000  153.00000\n",
       "mean     0.197386    0.409248    0.488824    0.182353    4.281046    1.97451\n",
       "std      0.748419    1.777923    1.656170    1.667259   11.955431    7.18014\n",
       "min      0.000000    0.000000    0.000000    0.000000    0.000000    0.00000\n",
       "25%      0.000000    0.000000    0.000000    0.000000    0.000000    0.00000\n",
       "50%      0.000000    0.000000    0.000000    0.000000    0.000000    0.00000\n",
       "75%      0.000000    0.035000    0.050000    0.000000    0.300000    0.00000\n",
       "max      5.639999   19.584999   11.865000   19.400000   83.800000   41.10000"
      ]
     },
     "execution_count": 38,
     "metadata": {},
     "output_type": "execute_result"
    }
   ],
   "source": [
    "ds.describe()"
   ]
  },
  {
   "cell_type": "markdown",
   "id": "c6118093",
   "metadata": {},
   "source": [
    "#### Podemos observar varias cosas, En Nogales es mayor el pronóstico de lluvia en comparación con las otras ciudades. Podemos ver que tiene un pronóstico de lluvia de 4mm y una desviación de 11, un poco alta. También el valor maximo fue dado para Nogales por PROMETEUS. En general, PROMETEUS da un pronóstico mas elevado en precipitación.\n"
   ]
  },
  {
   "cell_type": "code",
   "execution_count": 39,
   "id": "174ff16a",
   "metadata": {},
   "outputs": [
    {
     "data": {
      "text/html": [
       "<div>\n",
       "<style scoped>\n",
       "    .dataframe tbody tr th:only-of-type {\n",
       "        vertical-align: middle;\n",
       "    }\n",
       "\n",
       "    .dataframe tbody tr th {\n",
       "        vertical-align: top;\n",
       "    }\n",
       "\n",
       "    .dataframe thead th {\n",
       "        text-align: right;\n",
       "    }\n",
       "</style>\n",
       "<table border=\"1\" class=\"dataframe\">\n",
       "  <thead>\n",
       "    <tr style=\"text-align: right;\">\n",
       "      <th></th>\n",
       "      <th>date</th>\n",
       "      <th>city_hmo</th>\n",
       "      <th>city_nog</th>\n",
       "      <th>city_obr</th>\n",
       "      <th>HQprcp_hmo</th>\n",
       "      <th>HQprcp_nog</th>\n",
       "      <th>HQprcp_obr</th>\n",
       "      <th>prcp_hmo</th>\n",
       "      <th>prcp_nog</th>\n",
       "      <th>prcp_obr</th>\n",
       "    </tr>\n",
       "  </thead>\n",
       "  <tbody>\n",
       "    <tr>\n",
       "      <th>0</th>\n",
       "      <td>2021-03-01</td>\n",
       "      <td>Hermosillo</td>\n",
       "      <td>Heroica Nogales</td>\n",
       "      <td>Ciudad Obregón</td>\n",
       "      <td>0.000</td>\n",
       "      <td>0.000</td>\n",
       "      <td>0.000</td>\n",
       "      <td>0.0</td>\n",
       "      <td>0.0</td>\n",
       "      <td>0.0</td>\n",
       "    </tr>\n",
       "    <tr>\n",
       "      <th>1</th>\n",
       "      <td>2021-03-02</td>\n",
       "      <td>Hermosillo</td>\n",
       "      <td>Heroica Nogales</td>\n",
       "      <td>Ciudad Obregón</td>\n",
       "      <td>0.000</td>\n",
       "      <td>0.000</td>\n",
       "      <td>0.000</td>\n",
       "      <td>0.0</td>\n",
       "      <td>0.0</td>\n",
       "      <td>0.0</td>\n",
       "    </tr>\n",
       "    <tr>\n",
       "      <th>2</th>\n",
       "      <td>2021-03-03</td>\n",
       "      <td>Hermosillo</td>\n",
       "      <td>Heroica Nogales</td>\n",
       "      <td>Ciudad Obregón</td>\n",
       "      <td>0.015</td>\n",
       "      <td>0.000</td>\n",
       "      <td>0.000</td>\n",
       "      <td>0.0</td>\n",
       "      <td>0.0</td>\n",
       "      <td>0.0</td>\n",
       "    </tr>\n",
       "    <tr>\n",
       "      <th>3</th>\n",
       "      <td>2021-03-04</td>\n",
       "      <td>Hermosillo</td>\n",
       "      <td>Heroica Nogales</td>\n",
       "      <td>Ciudad Obregón</td>\n",
       "      <td>0.000</td>\n",
       "      <td>0.000</td>\n",
       "      <td>0.000</td>\n",
       "      <td>0.0</td>\n",
       "      <td>0.0</td>\n",
       "      <td>0.0</td>\n",
       "    </tr>\n",
       "    <tr>\n",
       "      <th>4</th>\n",
       "      <td>2021-03-05</td>\n",
       "      <td>Hermosillo</td>\n",
       "      <td>Heroica Nogales</td>\n",
       "      <td>Ciudad Obregón</td>\n",
       "      <td>0.000</td>\n",
       "      <td>0.000</td>\n",
       "      <td>0.000</td>\n",
       "      <td>0.0</td>\n",
       "      <td>0.0</td>\n",
       "      <td>0.0</td>\n",
       "    </tr>\n",
       "    <tr>\n",
       "      <th>...</th>\n",
       "      <td>...</td>\n",
       "      <td>...</td>\n",
       "      <td>...</td>\n",
       "      <td>...</td>\n",
       "      <td>...</td>\n",
       "      <td>...</td>\n",
       "      <td>...</td>\n",
       "      <td>...</td>\n",
       "      <td>...</td>\n",
       "      <td>...</td>\n",
       "    </tr>\n",
       "    <tr>\n",
       "      <th>148</th>\n",
       "      <td>2021-07-27</td>\n",
       "      <td>Hermosillo</td>\n",
       "      <td>Heroica Nogales</td>\n",
       "      <td>Ciudad Obregón</td>\n",
       "      <td>0.010</td>\n",
       "      <td>0.000</td>\n",
       "      <td>0.225</td>\n",
       "      <td>0.0</td>\n",
       "      <td>1.8</td>\n",
       "      <td>7.0</td>\n",
       "    </tr>\n",
       "    <tr>\n",
       "      <th>149</th>\n",
       "      <td>2021-07-28</td>\n",
       "      <td>Hermosillo</td>\n",
       "      <td>Heroica Nogales</td>\n",
       "      <td>Ciudad Obregón</td>\n",
       "      <td>0.010</td>\n",
       "      <td>0.000</td>\n",
       "      <td>0.080</td>\n",
       "      <td>0.0</td>\n",
       "      <td>3.1</td>\n",
       "      <td>0.3</td>\n",
       "    </tr>\n",
       "    <tr>\n",
       "      <th>150</th>\n",
       "      <td>2021-07-29</td>\n",
       "      <td>Hermosillo</td>\n",
       "      <td>Heroica Nogales</td>\n",
       "      <td>Ciudad Obregón</td>\n",
       "      <td>1.985</td>\n",
       "      <td>0.230</td>\n",
       "      <td>1.900</td>\n",
       "      <td>0.0</td>\n",
       "      <td>29.1</td>\n",
       "      <td>2.8</td>\n",
       "    </tr>\n",
       "    <tr>\n",
       "      <th>151</th>\n",
       "      <td>2021-07-30</td>\n",
       "      <td>Hermosillo</td>\n",
       "      <td>Heroica Nogales</td>\n",
       "      <td>Ciudad Obregón</td>\n",
       "      <td>2.760</td>\n",
       "      <td>0.925</td>\n",
       "      <td>11.865</td>\n",
       "      <td>0.0</td>\n",
       "      <td>8.4</td>\n",
       "      <td>4.6</td>\n",
       "    </tr>\n",
       "    <tr>\n",
       "      <th>152</th>\n",
       "      <td>2021-07-31</td>\n",
       "      <td>Hermosillo</td>\n",
       "      <td>Heroica Nogales</td>\n",
       "      <td>Ciudad Obregón</td>\n",
       "      <td>0.000</td>\n",
       "      <td>0.110</td>\n",
       "      <td>0.070</td>\n",
       "      <td>0.0</td>\n",
       "      <td>18.1</td>\n",
       "      <td>0.0</td>\n",
       "    </tr>\n",
       "  </tbody>\n",
       "</table>\n",
       "<p>153 rows × 10 columns</p>\n",
       "</div>"
      ],
      "text/plain": [
       "           date    city_hmo         city_nog        city_obr  HQprcp_hmo  \\\n",
       "0    2021-03-01  Hermosillo  Heroica Nogales  Ciudad Obregón       0.000   \n",
       "1    2021-03-02  Hermosillo  Heroica Nogales  Ciudad Obregón       0.000   \n",
       "2    2021-03-03  Hermosillo  Heroica Nogales  Ciudad Obregón       0.015   \n",
       "3    2021-03-04  Hermosillo  Heroica Nogales  Ciudad Obregón       0.000   \n",
       "4    2021-03-05  Hermosillo  Heroica Nogales  Ciudad Obregón       0.000   \n",
       "..          ...         ...              ...             ...         ...   \n",
       "148  2021-07-27  Hermosillo  Heroica Nogales  Ciudad Obregón       0.010   \n",
       "149  2021-07-28  Hermosillo  Heroica Nogales  Ciudad Obregón       0.010   \n",
       "150  2021-07-29  Hermosillo  Heroica Nogales  Ciudad Obregón       1.985   \n",
       "151  2021-07-30  Hermosillo  Heroica Nogales  Ciudad Obregón       2.760   \n",
       "152  2021-07-31  Hermosillo  Heroica Nogales  Ciudad Obregón       0.000   \n",
       "\n",
       "     HQprcp_nog  HQprcp_obr  prcp_hmo  prcp_nog  prcp_obr  \n",
       "0         0.000       0.000       0.0       0.0       0.0  \n",
       "1         0.000       0.000       0.0       0.0       0.0  \n",
       "2         0.000       0.000       0.0       0.0       0.0  \n",
       "3         0.000       0.000       0.0       0.0       0.0  \n",
       "4         0.000       0.000       0.0       0.0       0.0  \n",
       "..          ...         ...       ...       ...       ...  \n",
       "148       0.000       0.225       0.0       1.8       7.0  \n",
       "149       0.000       0.080       0.0       3.1       0.3  \n",
       "150       0.230       1.900       0.0      29.1       2.8  \n",
       "151       0.925      11.865       0.0       8.4       4.6  \n",
       "152       0.110       0.070       0.0      18.1       0.0  \n",
       "\n",
       "[153 rows x 10 columns]"
      ]
     },
     "execution_count": 39,
     "metadata": {},
     "output_type": "execute_result"
    }
   ],
   "source": [
    "ds"
   ]
  },
  {
   "cell_type": "code",
   "execution_count": 40,
   "id": "f189af6b",
   "metadata": {},
   "outputs": [
    {
     "data": {
      "text/plain": [
       "Text(0, 0.5, 'Días con lluvia')"
      ]
     },
     "execution_count": 40,
     "metadata": {},
     "output_type": "execute_result"
    },
    {
     "data": {
      "image/png": "[encoded data removed]",
      "text/plain": [
       "<Figure size 432x288 with 1 Axes>"
      ]
     },
     "metadata": {
      "needs_background": "light"
     },
     "output_type": "display_data"
    }
   ],
   "source": [
    "#Histograma de \"HQprcp\"\n",
    "\n",
    "sns.histplot(data=ds[[\"HQprcp_hmo\",\"prcp_hmo\"]], bins=10)\n",
    "plt.title(\"Precipitación diaria acumulada en alta calidad\\nNASA\", fontsize=12)\n",
    "plt.xlabel(\"mm\\nHermosillo\", fontsize=12)\n",
    "plt.ylabel(\"Días con lluvia\", fontsize=12)"
   ]
  },
  {
   "cell_type": "code",
   "execution_count": 41,
   "id": "5170e7c7",
   "metadata": {},
   "outputs": [
    {
     "data": {
      "text/plain": [
       "Text(0, 0.5, 'Días con lluvia')"
      ]
     },
     "execution_count": 41,
     "metadata": {},
     "output_type": "execute_result"
    },
    {
     "data": {
      "image/png": "[encoded data removed]",
      "text/plain": [
       "<Figure size 432x288 with 1 Axes>"
      ]
     },
     "metadata": {
      "needs_background": "light"
     },
     "output_type": "display_data"
    }
   ],
   "source": [
    "sns.histplot(data=ds[[\"HQprcp_nog\",\"prcp_nog\"]], bins=10)\n",
    "plt.title(\"Precipitación diaria acumulada en alta calidad\\nNASA\", fontsize=12)\n",
    "plt.xlabel(\"mm\\nHeroica Nogales\", fontsize=12)\n",
    "plt.ylabel(\"Días con lluvia\", fontsize=12)"
   ]
  },
  {
   "cell_type": "code",
   "execution_count": 42,
   "id": "e7c3b88c",
   "metadata": {},
   "outputs": [
    {
     "data": {
      "text/plain": [
       "Text(0, 0.5, 'Días con lluvia')"
      ]
     },
     "execution_count": 42,
     "metadata": {},
     "output_type": "execute_result"
    },
    {
     "data": {
      "image/png": "[encoded data removed]",
      "text/plain": [
       "<Figure size 432x288 with 1 Axes>"
      ]
     },
     "metadata": {
      "needs_background": "light"
     },
     "output_type": "display_data"
    }
   ],
   "source": [
    "sns.histplot(data=ds[[\"HQprcp_obr\",\"prcp_obr\"]], bins=10)\n",
    "plt.title(\"Precipitación diaria acumulada en alta calidad\\nNASA\", fontsize=12)\n",
    "plt.xlabel(\"mm\\nCiudad Obregón\", fontsize=12)\n",
    "plt.ylabel(\"Días con lluvia\", fontsize=12)"
   ]
  },
  {
   "cell_type": "markdown",
   "id": "3ba74f9a",
   "metadata": {},
   "source": [
    "#### Busqueda de correlación de los datos"
   ]
  },
  {
   "cell_type": "code",
   "execution_count": 44,
   "id": "7357e69b",
   "metadata": {},
   "outputs": [
    {
     "data": {
      "text/plain": [
       "<AxesSubplot:>"
      ]
     },
     "execution_count": 44,
     "metadata": {},
     "output_type": "execute_result"
    },
    {
     "data": {
      "image/png": "[encoded data removed]",
      "text/plain": [
       "<Figure size 432x288 with 2 Axes>"
      ]
     },
     "metadata": {
      "needs_background": "light"
     },
     "output_type": "display_data"
    }
   ],
   "source": [
    "sns.heatmap(ds.corr(), annot=True)"
   ]
  },
  {
   "cell_type": "markdown",
   "id": "c868218f",
   "metadata": {},
   "source": [
    "#### Curiosamente podemos observar que existe una correlación entre Hermosillo y Ciudad Obregón. "
   ]
  }
 ],
 "metadata": {
  "kernelspec": {
   "display_name": "mcd",
   "language": "python",
   "name": "mcd"
  },
  "language_info": {
   "codemirror_mode": {
    "name": "ipython",
    "version": 3
   },
   "file_extension": ".py",
   "mimetype": "text/x-python",
   "name": "python",
   "nbconvert_exporter": "python",
   "pygments_lexer": "ipython3",
   "version": "3.6.13"
  }
 },
 "nbformat": 4,
 "nbformat_minor": 5
}
